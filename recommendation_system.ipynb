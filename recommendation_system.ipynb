{
 "cells": [
  {
   "cell_type": "code",
   "execution_count": 2,
   "id": "8d7acfaf",
   "metadata": {},
   "outputs": [],
   "source": [
    "import pandas as pd\n",
    "from sklearn.metrics.pairwise import cosine_similarity\n",
    "\n"
   ]
  },
  {
   "cell_type": "code",
   "execution_count": 6,
   "id": "91418bc9",
   "metadata": {},
   "outputs": [],
   "source": [
    "df = pd.read_csv(\"C:/data/sql/ml-latest-small/ml-latest-small/ratings.csv\")"
   ]
  },
  {
   "cell_type": "code",
   "execution_count": 7,
   "id": "38db1151",
   "metadata": {},
   "outputs": [],
   "source": [
    "# Rows = users, Columns = movies, Values = ratings\n",
    "user_item_matrix = df.pivot_table(index='userId', columns='movieId', values='rating')\n",
    "\n",
    "# Fill NaN with 0 for similarity calculation\n",
    "user_item_matrix_filled = user_item_matrix.fillna(0)\n"
   ]
  },
  {
   "cell_type": "code",
   "execution_count": 8,
   "id": "c5016725",
   "metadata": {},
   "outputs": [],
   "source": [
    "# Transpose so movies are rows\n",
    "item_similarity = cosine_similarity(user_item_matrix_filled.T)\n",
    "item_similarity_df = pd.DataFrame(item_similarity, \n",
    "                                  index=user_item_matrix.columns, \n",
    "                                  columns=user_item_matrix.columns)\n"
   ]
  },
  {
   "cell_type": "code",
   "execution_count": 9,
   "id": "6f41bcd8",
   "metadata": {},
   "outputs": [
    {
     "name": "stdout",
     "output_type": "stream",
     "text": [
      "movieId\n",
      "3114    0.572601\n",
      "480     0.565637\n",
      "780     0.564262\n",
      "260     0.557388\n",
      "356     0.547096\n",
      "Name: 1, dtype: float64\n"
     ]
    }
   ],
   "source": [
    "def get_item_recommendations(movie_id, top_n=5):\n",
    "    # Sort movies by similarity score to given movie\n",
    "    similar_scores = item_similarity_df[movie_id].sort_values(ascending=False)\n",
    "    similar_scores = similar_scores.drop(movie_id)  # remove itself\n",
    "    return similar_scores.head(top_n)\n",
    "\n",
    "# Example: recommend similar movies to movieId=1\n",
    "print(get_item_recommendations(1, top_n=5))\n"
   ]
  },
  {
   "cell_type": "code",
   "execution_count": null,
   "id": "a08b93a4",
   "metadata": {},
   "outputs": [],
   "source": []
  }
 ],
 "metadata": {
  "kernelspec": {
   "display_name": "Python 3",
   "language": "python",
   "name": "python3"
  },
  "language_info": {
   "codemirror_mode": {
    "name": "ipython",
    "version": 3
   },
   "file_extension": ".py",
   "mimetype": "text/x-python",
   "name": "python",
   "nbconvert_exporter": "python",
   "pygments_lexer": "ipython3",
   "version": "3.13.0"
  }
 },
 "nbformat": 4,
 "nbformat_minor": 5
}
